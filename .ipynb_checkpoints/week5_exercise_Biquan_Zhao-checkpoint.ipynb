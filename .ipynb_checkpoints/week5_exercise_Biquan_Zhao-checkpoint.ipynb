{
 "cells": [
  {
   "cell_type": "markdown",
   "metadata": {},
   "source": [
    "### 1. Write a format string (using `str.format()` and `f'string'`) that will take the following four element tuple:\n",
    "\n",
    "`( 2, 123.4567, 10000, 12345.67)`\n",
    "\n",
    "and produce:\n",
    "    \n",
    "`'file_002 :   123.46, 1.00e+04, 1.23e+04'`"
   ]
  },
  {
   "cell_type": "code",
   "execution_count": 1,
   "metadata": {},
   "outputs": [
    {
     "data": {
      "text/plain": [
       "'file_002 :   123.46, 1.00e+04, 1.23e+04'"
      ]
     },
     "execution_count": 1,
     "metadata": {},
     "output_type": "execute_result"
    }
   ],
   "source": [
    "# using str.format()\n",
    "\"file_{0:0>3} : {1:>8.2f}, {2:.2e}, {3:.2e}\".format(2, 123.4567, 10000, 12345.67)"
   ]
  },
  {
   "cell_type": "code",
   "execution_count": 2,
   "metadata": {},
   "outputs": [
    {
     "data": {
      "text/plain": [
       "'file_002 :   123.46, 1.00e+04, 1.23e+04'"
      ]
     },
     "execution_count": 2,
     "metadata": {},
     "output_type": "execute_result"
    }
   ],
   "source": [
    "# using f'string\n",
    "item = [2, 123.4567, 10000, 12345.67]\n",
    "f\"file_{item[0]:0>3} : {item[1]:>8.2f}, {item[2]:.2e}, {item[3]:.2e}\""
   ]
  },
  {
   "cell_type": "markdown",
   "metadata": {},
   "source": [
    "### 2. Write a python function that output the following formatted string based on the input iterable:\n",
    "\n",
    "`'The n numbers are: i1, i2, i3, ...'`\n",
    "    \n",
    "where `n` is the number in the iterable and `i1, i2 ...` are the items inside the iterable. \n",
    "\n",
    "for example:\n",
    "\n",
    "`func([1, 2, 3])` will return `'The 3 numbers are: 1, 2, 3'`\n",
    "\n",
    "`func((6, 7, 8, 9))` will return `'The 4 numbers are: 6, 7, 8, 9'`"
   ]
  },
  {
   "cell_type": "code",
   "execution_count": 3,
   "metadata": {},
   "outputs": [
    {
     "name": "stdout",
     "output_type": "stream",
     "text": [
      "The 3 numbers are : 1, 2, 3\n",
      "The 4 numbers are : 6, 7, 8, 9\n"
     ]
    }
   ],
   "source": [
    "def string_based_on_iterable(in_iterable):\n",
    "    print(f\"The {len(in_iterable)} numbers are : \", end = \"\")\n",
    "    for i in range(0, len(in_iterable)-1):\n",
    "        print(f\"{in_iterable[i]}\", end = \", \")\n",
    "    print(f\"{in_iterable[-1]}\")\n",
    "\n",
    "string_based_on_iterable([1, 2, 3])\n",
    "string_based_on_iterable((6, 7, 8, 9))"
   ]
  },
  {
   "cell_type": "markdown",
   "metadata": {},
   "source": [
    "### 3. Write a similar function as the last one but it inputs variable-length arguments instead\n",
    "\n",
    "`func(1, 2, 3)` will return `'The 3 numbers are: 1, 2, 3'`\n",
    "\n",
    "`func(6, 7, 8, 9)` will return `'The 4 numbers are: 6, 7, 8, 9'`"
   ]
  },
  {
   "cell_type": "code",
   "execution_count": 4,
   "metadata": {},
   "outputs": [
    {
     "name": "stdout",
     "output_type": "stream",
     "text": [
      "The 3 numbers are : 1, 2, 3\n",
      "The 4 numbers are : 6, 7, 8, 9\n"
     ]
    }
   ],
   "source": [
    "def string_based_on_variable(*args):\n",
    "    print(f\"The {len(args)} numbers are : \", end = \"\")  \n",
    "    for i in range(1, len(args)):\n",
    "        print(f\"{args[i-1]}, \", end = \"\")\n",
    "    print(f\"{args[-1]}\")\n",
    "    \n",
    "string_based_on_variable(1, 2, 3)\n",
    "string_based_on_variable(6, 7, 8, 9)"
   ]
  },
  {
   "cell_type": "markdown",
   "metadata": {},
   "source": [
    "### 4. Write a format string (f'string') that will take the following tuple and return the formatted string below:\n",
    "\n",
    "Tuple: `(4, 30, 2017, 2, 27)`\n",
    "\n",
    "Return: `'02 27 2017 04 30'`"
   ]
  },
  {
   "cell_type": "code",
   "execution_count": 5,
   "metadata": {},
   "outputs": [
    {
     "data": {
      "text/plain": [
       "'02 27 2017 04 30'"
      ]
     },
     "execution_count": 5,
     "metadata": {},
     "output_type": "execute_result"
    }
   ],
   "source": [
    "Tuple = (4, 30, 2017, 2, 27)\n",
    "f\"{Tuple[3]:0>2} {Tuple[4]} {Tuple[2]} {Tuple[0]:0>2} {Tuple[1]}\""
   ]
  },
  {
   "cell_type": "markdown",
   "metadata": {},
   "source": [
    "### 5. Write a format string (f'string') that will take the following input and return the formatted string below:\n",
    "\n",
    "Input: `['oranges', 1.3, 'lemons', 1.1]`\n",
    "    \n",
    "Return: `'The weight of an orange is 1.3 and the weight of a lemon is 1.1 and the total weight is 2.4'`"
   ]
  },
  {
   "cell_type": "code",
   "execution_count": 6,
   "metadata": {},
   "outputs": [
    {
     "data": {
      "text/plain": [
       "'The weight of an oranges is 1.3 and the weight of a lemons is 1.1 and the total weight is 2.4'"
      ]
     },
     "execution_count": 6,
     "metadata": {},
     "output_type": "execute_result"
    }
   ],
   "source": [
    "in_list = [\"oranges\", 1.3, \"lemons\", 1.1]\n",
    "\n",
    "f\"The weight of an {in_list[0]} is {in_list[1]} and \\\n",
    "the weight of a {in_list[2]} is {in_list[3]} \\\n",
    "and the total weight is {(in_list[1] + in_list[3]):.1f}\""
   ]
  },
  {
   "cell_type": "markdown",
   "metadata": {},
   "source": [
    "### 6. Write a function that will format each item in an input iterable object into a customized width \n",
    "\n",
    "syntax: `func(iterable, width)`\n",
    "\n",
    "for example:\n",
    "    \n",
    "`func([1, 2, 3, 4, 5], 3)`  return `'  1  2  3  4  5'`\n",
    "\n",
    "`func([1, 2, 3, 4, 5], 2)`  return `' 1 2 3 4 5'`"
   ]
  },
  {
   "cell_type": "code",
   "execution_count": 7,
   "metadata": {},
   "outputs": [
    {
     "name": "stdout",
     "output_type": "stream",
     "text": [
      "  1  2  3  4  5\n",
      " 1 2 3 4 5\n"
     ]
    }
   ],
   "source": [
    "def customized_wide_iterable(iterable, width):\n",
    "    for each_item in iterable:\n",
    "        print(f\"{each_item:>{width}}\", end = \"\")\n",
    "    print(\"\")\n",
    "\n",
    "customized_wide_iterable([1, 2, 3, 4, 5], 3)\n",
    "customized_wide_iterable([1, 2, 3, 4, 5], 2)"
   ]
  },
  {
   "cell_type": "markdown",
   "metadata": {},
   "source": [
    "### 7. The USGS Water Data service provides retrival of streamflow data at the USGS stream gages. The download url follows the pattern below. Write a Python program 1) generate the url for a given list of gage numbers; 2) read this url and download the data to csv file (do not use numpy or pandas); 3) based on the downloaded data calculate the monthly stasticstics including maximum, minimum and average of the streamflow data and save it to another csv file. The data need to be formatted to 2 decimal digits. 4) calculate the average annual runoff of each gage (expressed in acre-feet) \n",
    "\n",
    "\n",
    "url: https://waterdata.usgs.gov/nwis/dv?&cb_00060=on&format=rdb&site_no=06803495&referred_module=sw&period=&begin_date=2019-02-11&end_date=2020-02-11\n",
    "\n",
    "where `&site_no=06803495` define which gages are included in this data retrieval; for multiple gages, simply repeat it, e.g. `&site_no=06803495&site_no=06803486`;\n",
    "\n",
    "the datas are specified by `&period=&begin_date=2018-02-11&end_date=2020-02-11`\n",
    "\n",
    "You could test your program using the gages `['06803495', '06803486']` for the period between `2000-10-1` and `2019-9-30`\n",
    "\n",
    "Hint 1: using the str.format() method to construct the url.\n",
    "\n",
    "Hint 2: use the `urllib.request.urlopen()` to download the url:\n",
    "```python\n",
    "    import urllib.request.urlopen\n",
    "    f = urllib.request.urlopen(a_url)\n",
    "    lines = f.readlines()\n",
    "```\n",
    "\n",
    "Hint 3: skip the lines starts with `#` in the downloaded data.\n",
    "\n",
    "Hint 4: print some of the downloaded lines and identify the elements in each line.\n",
    "\n",
    "Hint 5: using the str.format() or f-string method to write `csv` file.\n",
    "\n",
    "Hint 6: the monthly stasticstics refer to the time series of monthly stasticstics.\n",
    "\n",
    "Hint 7: for the average annual runoff, you need to calculate the total runoff for each year and then calculate average of these annual runoff."
   ]
  },
  {
   "cell_type": "code",
   "execution_count": 5,
   "metadata": {},
   "outputs": [
    {
     "name": "stdout",
     "output_type": "stream",
     "text": [
      "https://waterdata.usgs.gov/nwis/dv?&cb_00060=on&format=rdb&site_no=06803495&site_no=06803486&referred_module=sw&&begin_date=2000-10-01&end_date=2019-09-30\n"
     ]
    }
   ],
   "source": [
    "import urllib\n",
    "\n",
    "def generate_url(in_gage, in_date):\n",
    "    if len(in_date) > 2:\n",
    "        print(f\"Input invalid because the input date list has {len(in_date)} elements!\")\n",
    "    else:\n",
    "        url = \"https://waterdata.usgs.gov/nwis/dv?&cb_00060=on&format=rdb\"\n",
    "        period = f\"referred_module=sw&&begin_date={in_date[0]}&end_date={in_date[1]}\"\n",
    "        site_no = \"&\"\n",
    "        for each_item in in_gage:\n",
    "            each_site_no = f\"site_no={each_item}\"\n",
    "            site_no = site_no + each_site_no + \"&\"\n",
    "        url = url + site_no + period\n",
    "        return url\n",
    "    \n",
    "in_url = generate_url(['06803495', '06803486'], ['2000-10-01', '2019-09-30'])\n",
    "print(in_url)\n"
   ]
  },
  {
   "cell_type": "code",
   "execution_count": 6,
   "metadata": {},
   "outputs": [
    {
     "name": "stdout",
     "output_type": "stream",
     "text": [
      "b'# ---------------------------------- WARNING ----------------------------------------\\n'\n",
      "b'# Some of the data that you have obtained from this U.S. Geological Survey database\\n'\n",
      "b\"# may not have received Director's approval. Any such data values are qualified\\n\"\n",
      "b'# as provisional and are subject to revision. Provisional data are released on the\\n'\n",
      "b'# condition that neither the USGS nor the United States Government may be held liable\\n'\n",
      "b'# for any damages resulting from its use.\\n'\n",
      "b'#\\n'\n",
      "b'# Additional info: https://help.waterdata.usgs.gov/policies/provisional-data-statement\\n'\n",
      "b'#\\n'\n",
      "b'# File-format description:  https://help.waterdata.usgs.gov/faq/about-tab-delimited-output\\n'\n",
      "b'# Automated-retrieval info: https://help.waterdata.usgs.gov/faq/automated-retrievals\\n'\n",
      "b'#\\n'\n",
      "b'# Contact:   gs-w_support_nwisweb@usgs.gov\\n'\n",
      "b'# retrieved: 2020-03-01 21:16:11 EST       (caww01)\\n'\n",
      "b'#\\n'\n",
      "b'# Data for the following 2 site(s) are contained in this file\\n'\n",
      "b'#    USGS 06803486 Oak Creek at Air Park Road at Lincoln, Nebr.\\n'\n",
      "b'#    USGS 06803495 Salt Creek at Fairgrounds at Lincoln, Nebr.\\n'\n",
      "b'# -----------------------------------------------------------------------------------\\n'\n",
      "b'#\\n'\n",
      "b'# Data provided for site 06803486\\n'\n",
      "b'#            TS   parameter     statistic     Description\\n'\n",
      "b'#         93535       00060     00003     Discharge, cubic feet per second (Mean)\\n'\n",
      "b'#\\n'\n",
      "b'# Data-value qualification codes included in this output:\\n'\n",
      "b'#     A  Approved for publication -- Processing and review completed.\\n'\n",
      "b'#     P  Provisional data subject to revision.\\n'\n",
      "b'# \\n'\n",
      "b'agency_cd\\tsite_no\\tdatetime\\t93535_00060_00003\\t93535_00060_00003_cd\\n'\n",
      "b'5s\\t15s\\t20d\\t14n\\t10s\\n'\n",
      "b'USGS\\t06803486\\t2000-10-01\\t3.30\\tA\\n'\n",
      "b'USGS\\t06803486\\t2000-10-02\\t3.80\\tA\\n'\n",
      "b'USGS\\t06803486\\t2000-10-03\\t4.10\\tA\\n'\n",
      "b'USGS\\t06803486\\t2000-10-04\\t3.50\\tA\\n'\n",
      "b'USGS\\t06803486\\t2000-10-05\\t6.30\\tA\\n'\n",
      "b'USGS\\t06803486\\t2000-10-06\\t6.10\\tA\\n'\n",
      "b'USGS\\t06803486\\t2000-10-07\\t7.00\\tA\\n'\n",
      "b'USGS\\t06803486\\t2000-10-08\\t8.00\\tA\\n'\n",
      "b'USGS\\t06803486\\t2000-10-09\\t9.00\\tA\\n'\n",
      "b'USGS\\t06803486\\t2000-10-10\\t10.0\\tA\\n'\n"
     ]
    }
   ],
   "source": [
    "# Hint 5: using the str.format() or f-string method to write csv file.\n",
    "\n",
    "def read_data_and_print_lines(url, num_of_lines_to_print):\n",
    "    f = urllib.request.urlopen(url)\n",
    "    lines = f.readlines()\n",
    "    for i in range(num_of_lines_to_print):\n",
    "        line = lines[i]\n",
    "        print(line)\n",
    "    return lines\n",
    "\n",
    "read_lines = read_data_and_print_lines(in_url, 40)"
   ]
  },
  {
   "cell_type": "code",
   "execution_count": 7,
   "metadata": {},
   "outputs": [
    {
     "name": "stdout",
     "output_type": "stream",
     "text": [
      "Data have been saved to csv file named Downloaded_Biquan_Zhao.csv.\n",
      "File was closed.\n"
     ]
    }
   ],
   "source": [
    "def save_date_to_csv(in_data_lines, file_name):\n",
    "    with open(file_name, \"w\") as f:\n",
    "        for line in in_data_lines:\n",
    "            line = line.decode()\n",
    "            if \"#\" in line:\n",
    "                continue\n",
    "            else:\n",
    "                line = line.strip().split(\"\\t\")\n",
    "                f.write(f\"{line[0]},{line[1]},{line[2]},{line[3]},{line[4]}\\n\")\n",
    "    f.close\n",
    "    print(f\"Data have been saved to csv file named {file_name}.\\nFile was closed.\")\n",
    "    \n",
    "save_date_to_csv(read_lines, \"Downloaded_Biquan_Zhao.csv\")"
   ]
  },
  {
   "cell_type": "code",
   "execution_count": 8,
   "metadata": {},
   "outputs": [
    {
     "name": "stdout",
     "output_type": "stream",
     "text": [
      "agency_cd,site_no,datetime,93535_00060_00003,93535_00060_00003_cd\n",
      "\n",
      "5s,15s,20d,14n,10s\n",
      "\n",
      "USGS,06803486,2000-10-01,3.30,A\n",
      "\n",
      "USGS,06803486,2000-10-02,3.80,A\n",
      "\n",
      "USGS,06803486,2000-10-03,4.10,A\n",
      "\n",
      "USGS,06803486,2000-10-04,3.50,A\n",
      "\n",
      "USGS,06803486,2000-10-05,6.30,A\n",
      "\n",
      "USGS,06803486,2000-10-06,6.10,A\n",
      "\n",
      "USGS,06803486,2000-10-07,7.00,A\n",
      "\n",
      "USGS,06803486,2000-10-08,8.00,A\n",
      "\n"
     ]
    },
    {
     "data": {
      "text/plain": [
       "<function TextIOWrapper.close()>"
      ]
     },
     "execution_count": 8,
     "metadata": {},
     "output_type": "execute_result"
    }
   ],
   "source": [
    "# read some lines from the downloaded csv file.\n",
    "\n",
    "with open(\"Downloaded_Biquan_Zhao.csv\") as f:\n",
    "    for i in range(10):\n",
    "        line = f.readline()\n",
    "        print(line)\n",
    "f.close"
   ]
  },
  {
   "cell_type": "code",
   "execution_count": 9,
   "metadata": {},
   "outputs": [],
   "source": [
    "# 3) based on the downloaded data calculate the monthly stasticstics including maximum, minimum and average of the streamflow data \n",
    "# and save it to another csv file. \n",
    "# The data need to be formatted to 2 decimal digits\n",
    "\n",
    "\n",
    "def statis_streamflow_monthly(in_file, out_file):    \n",
    "\n",
    "    yyyy_mm_list = []\n",
    "    site_no = \"site_no\"; tem_date = \"date_20XX\"; max_stream = \"max_stream\"\n",
    "    min_stream = \"min_stram\"; mean_stream = \"mean_stream\"; mon_sum = \"month_sum\"\n",
    "    \n",
    "    with open(out_file, \"w\") as fw:\n",
    "        with open(in_file) as f:\n",
    "            for line in f:\n",
    "                line = line.strip().split(\",\")\n",
    "                if \"USGS\" in line:                        \n",
    "                                            \n",
    "                    if line[3] == \"Ice\":\n",
    "                        print(line)\n",
    "                        continue\n",
    "                    else:\n",
    "                        streamflow = float(line[3])\n",
    "                        \n",
    "                    temp = f\"{line[1]}_{line[2][0:7]}\"\n",
    "                    \n",
    "                    if temp not in yyyy_mm_list:\n",
    "                        \n",
    "                        if len(yyyy_mm_list) == 0:\n",
    "                            fw.write(f\"{site_no},{tem_date}, {min_stream}, {max_stream}, {mean_stream}, {mon_sum} \\n\")\n",
    "                        else:\n",
    "                            fw.write(f\"'{site_no}, {tem_date}, {min_stream:.2f}, {max_stream:.2f}, {sum/i:.2f}, {sum:.2f} \\n\")\n",
    "                        \n",
    "                        site_no = line[1]\n",
    "                        tem_date = line[2][0:7]\n",
    "                        yyyy_mm_list.append(temp)\n",
    "                        sum, max_stream, min_stream, i = streamflow, streamflow, streamflow, 1\n",
    "                        \n",
    "                    else:\n",
    "                        if streamflow > max_stream: max_stream = streamflow\n",
    "                        if streamflow < min_stream: min_stream = streamflow\n",
    "                        sum = sum + streamflow\n",
    "                        i += 1                  \n",
    "                        \n",
    "                else:\n",
    "                    continue\n",
    "                    \n",
    "        fw.write(f\"'{site_no}, {line[2][0:7]}, {min_stream:.2f}, {max_stream:.2f}, {sum/i:.2f}, {sum:.2f} \\n\")\n",
    "    f.close\n",
    "    fw.close\n",
    "\n",
    "statis_streamflow_monthly(\"Downloaded_Biquan_Zhao.csv\", \"Calculate_stream_Biquan_Zhao.csv\")"
   ]
  },
  {
   "cell_type": "code",
   "execution_count": 10,
   "metadata": {},
   "outputs": [],
   "source": [
    "def statis_streamflow_monthly(in_file, out_file):    \n",
    "\n",
    "    yyyy_list = []\n",
    "    site_no = \"site_no\"; tem_date = \"date_20XX\"; annual_runoff = \"annual_runoff\"; day_statis = \"statis number of days\"\n",
    "    \n",
    "    with open(out_file, \"w\") as fw:\n",
    "        with open(in_file) as f:\n",
    "            for line in f:\n",
    "                line = line.strip().split(\",\")\n",
    "                if \"USGS\" in line:                        \n",
    "                                            \n",
    "                    if line[3] == \"Ice\":\n",
    "                        print(line)\n",
    "                        continue\n",
    "                    else:\n",
    "                        streamflow = float(line[3])\n",
    "                        \n",
    "                    temp = f\"{line[1]}_{line[2][0:4]}\"\n",
    "                    \n",
    "                    if temp not in yyyy_list:\n",
    "                        \n",
    "                        if len(yyyy_list) == 0:\n",
    "                            fw.write(f\"{site_no},{tem_date}, {annual_runoff}, {day_statis} \\n\")\n",
    "                        else:\n",
    "                            fw.write(f\"'{site_no}, {tem_date}, {sum * 86400 / 43560:.2f}, {i} \\n\")\n",
    "                        \n",
    "                        site_no = line[1]\n",
    "                        tem_date = line[2][0:4]\n",
    "                        yyyy_list.append(temp)\n",
    "                        sum, i = streamflow, 1\n",
    "                        \n",
    "                    else:\n",
    "                        sum = sum + streamflow\n",
    "                        i += 1                  \n",
    "                        \n",
    "                else:\n",
    "                    continue\n",
    "                    \n",
    "        fw.write(f\"'{site_no}, {tem_date}, {sum * 86400 / 43560:.2f}, {i} \\n\")\n",
    "    f.close\n",
    "    fw.close\n",
    "\n",
    "statis_streamflow_monthly(\"Downloaded_Biquan_Zhao.csv\", \"Calculate_runoff_Biquan_Zhao.csv\")"
   ]
  }
 ],
 "metadata": {
  "kernelspec": {
   "display_name": "Python 3",
   "language": "python",
   "name": "python3"
  },
  "language_info": {
   "codemirror_mode": {
    "name": "ipython",
    "version": 3
   },
   "file_extension": ".py",
   "mimetype": "text/x-python",
   "name": "python",
   "nbconvert_exporter": "python",
   "pygments_lexer": "ipython3",
   "version": "3.7.4"
  }
 },
 "nbformat": 4,
 "nbformat_minor": 4
}
