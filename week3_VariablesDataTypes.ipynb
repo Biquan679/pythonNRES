{
 "cells": [
  {
   "cell_type": "markdown",
   "metadata": {},
   "source": [
    "# Variables"
   ]
  },
  {
   "cell_type": "markdown",
   "metadata": {},
   "source": [
    "## Variable names"
   ]
  },
  {
   "cell_type": "code",
   "execution_count": null,
   "metadata": {},
   "outputs": [],
   "source": [
    "# assign value to a variable\n",
    "class_room_number = 141"
   ]
  },
  {
   "cell_type": "code",
   "execution_count": null,
   "metadata": {},
   "outputs": [],
   "source": [
    "# This does NOT work\n",
    "141 = class_room_number"
   ]
  },
  {
   "cell_type": "code",
   "execution_count": null,
   "metadata": {},
   "outputs": [],
   "source": [
    "# This will work\n",
    "my_class_room_number = your_class_room_number = 141\n",
    "print('My class room number is: ', my_class_room_number)\n",
    "print('Your class room number is: ', your_class_room_number)"
   ]
  },
  {
   "cell_type": "code",
   "execution_count": null,
   "metadata": {},
   "outputs": [],
   "source": [
    "# This will work too.\n",
    "my_class_room_number, your_class_room_number = 141, 142\n",
    "print('My class room number is: ', my_class_room_number)\n",
    "print('Your class room number is: ', your_class_room_number)"
   ]
  },
  {
   "cell_type": "code",
   "execution_count": null,
   "metadata": {},
   "outputs": [],
   "source": [
    "# using keywords for variable names is prohibited.\n",
    "is = 1"
   ]
  },
  {
   "cell_type": "code",
   "execution_count": null,
   "metadata": {},
   "outputs": [],
   "source": [
    "# case sensitive\n",
    "abc = 1\n",
    "ABC = 2\n",
    "print(abc)\n",
    "print(ABC)"
   ]
  },
  {
   "cell_type": "code",
   "execution_count": null,
   "metadata": {},
   "outputs": [],
   "source": [
    "### Good variable names\n",
    "GRAVITATIONAL_ACCELERATION = 9.81\n",
    "MONTHS_IN_A_YEAR = 12\n",
    "\n",
    "initial_wind_speed = 5 # m/s\n",
    "initialWindSpeed = 5\n",
    "InitialWindSpeed = 5\n",
    "\n",
    "### bad variable names\n",
    "iws = 5\n",
    "v = 5\n",
    "nsdifhdashjdsljkfn = 5"
   ]
  },
  {
   "cell_type": "markdown",
   "metadata": {},
   "source": [
    "## Variable scopes"
   ]
  },
  {
   "cell_type": "code",
   "execution_count": null,
   "metadata": {},
   "outputs": [],
   "source": [
    "# This is a global variable\n",
    "a = 0\n",
    "\n",
    "if a == 0:\n",
    "    # This is still a global variable\n",
    "    b = 1\n",
    "\n",
    "def my_function(c):\n",
    "    # this is a local variable\n",
    "    d = 3\n",
    "    print('my_function', c)\n",
    "    print('my_function', d)\n",
    "\n",
    "# Now we call the function, passing the value 7 as the first and only parameter\n",
    "my_function(7)\n",
    "\n",
    "# a and b still exist\n",
    "print('global', a)\n",
    "print('global', b)\n",
    "\n",
    "# c and d don't exist anymore -- these statements will give us name errors!\n",
    "print('global', c)\n",
    "print('global', d)"
   ]
  },
  {
   "cell_type": "code",
   "execution_count": null,
   "metadata": {},
   "outputs": [],
   "source": [
    "# The global variables can be used in other cells too.\n",
    "print('global', a)"
   ]
  },
  {
   "cell_type": "code",
   "execution_count": null,
   "metadata": {},
   "outputs": [],
   "source": [
    "# for-loop variable leaking\n",
    "for i in range(3):\n",
    "    print(i)\n",
    "    \n",
    "print('what is i:', i)"
   ]
  },
  {
   "cell_type": "markdown",
   "metadata": {},
   "source": [
    "# Data types"
   ]
  },
  {
   "cell_type": "code",
   "execution_count": null,
   "metadata": {},
   "outputs": [],
   "source": [
    "print('The type of 1e10 is ', type(1e10))\n",
    "\n",
    "print('The type of 100 is ', type(100))\n",
    "\n",
    "print('The type of True is ', type(True))\n",
    "\n",
    "print('The type of \"U\" is ', type(\"U\"))"
   ]
  },
  {
   "cell_type": "markdown",
   "metadata": {},
   "source": [
    "### Explicit conversion"
   ]
  },
  {
   "cell_type": "code",
   "execution_count": null,
   "metadata": {},
   "outputs": [],
   "source": [
    "print('int()  :', int(1e9), int(3.14), int(3.5), int('2'), int(True)) # int('2.3') will not work\n",
    "\n",
    "print('float():', float(100), float(\"2\"), float(\"2.3\"), float(True))\n",
    "\n",
    "print('str()  :', str(100), str(2.300), str(True))\n",
    "\n",
    "print('bool() :', bool(100), bool(\"2.3\"), bool(0.0), bool(0), bool(\"0\"), bool(\"False\")) # only int and float 0 is converted to False"
   ]
  },
  {
   "cell_type": "markdown",
   "metadata": {},
   "source": [
    "### Implicit conversion"
   ]
  },
  {
   "cell_type": "code",
   "execution_count": null,
   "metadata": {},
   "outputs": [],
   "source": [
    "print('8.5 * 2 = ', 8.5 * 2)\n",
    "\n",
    "print('1 + 0.1 = ', 1 + 0.1)\n",
    "\n",
    "print('1 + \"2\" = ', 1 + \"2\")"
   ]
  },
  {
   "cell_type": "markdown",
   "metadata": {},
   "source": [
    "### Assignment operators"
   ]
  },
  {
   "cell_type": "code",
   "execution_count": null,
   "metadata": {},
   "outputs": [],
   "source": [
    "a = 1; b = 2.0; c = 1e3\n",
    "a += 1\n",
    "b *= 2\n",
    "c /= 10\n",
    "\n",
    "print(a, b, c)"
   ]
  },
  {
   "cell_type": "markdown",
   "metadata": {},
   "source": [
    "## Derived data types"
   ]
  },
  {
   "cell_type": "markdown",
   "metadata": {},
   "source": [
    "### List"
   ]
  },
  {
   "cell_type": "code",
   "execution_count": null,
   "metadata": {},
   "outputs": [],
   "source": [
    "# creation of an empty list\n",
    "list1 = [] # or list1 = list()\n",
    "\n",
    "# concatenate two lists\n",
    "list1 = ['a', \"b\", \"c\"]\n",
    "list2 = [1, 2, 3]\n",
    "list3 = list1 + list2\n",
    "print('concatenatation:', list3)\n",
    "\n",
    "# repeat a list\n",
    "list_n = list1 * 3\n",
    "print('repeatation:', list_n)\n",
    "\n",
    "# check element in a list\n",
    "print(\"'a' in list1:\", 'a' in list1)\n",
    "print(\"'a' not in list2:\", 'a' not in list2)\n",
    "\n",
    "# check length of a list (how many elements are in a list)\n",
    "list_of_list = [[1,2,3], [4,5], 6]\n",
    "print('length of list_n:', len(list_n))\n",
    "print('length of list_of_list:', len(list_of_list))\n",
    "\n",
    "# add an element to the end of the list\n",
    "list3.append(\"d\")\n",
    "print('after append:', list3)\n",
    "\n",
    "# add an element at a specific location\n",
    "list1.insert(1, 'insert')\n",
    "print('after insert:', list1)\n",
    "\n",
    "# remove the last element\n",
    "list_pop = list3.pop()\n",
    "print('pop:', list_pop)\n",
    "print('after pop:', list3)\n",
    "\n",
    "# remove an element by its index\n",
    "del list3[1]\n",
    "print('after del:', list3)\n",
    "\n",
    "\n",
    "# this will also remove an element\n",
    "list_n.remove('b') # only remove the first instance\n",
    "print('after remove:', list_n)\n",
    "\n",
    "# to locate an element in the list\n",
    "print('the location of \"b\" in list_n is:', list_n.index('b'))\n",
    "\n",
    "# to reverse a list\n",
    "list_n.reverse()\n",
    "print('the reverse of list_n is:', list_n)\n",
    "\n",
    "# to sort a list\n",
    "list_n.sort()\n",
    "print('the sorted list_n is:', list_n)"
   ]
  },
  {
   "cell_type": "markdown",
   "metadata": {},
   "source": [
    "### Tuple"
   ]
  },
  {
   "cell_type": "code",
   "execution_count": null,
   "metadata": {},
   "outputs": [],
   "source": [
    "# Tuples occupy less memory and therefore is faster than lists\n",
    "\n",
    "# create empty tuple\n",
    "empty_tuple = ()\n",
    "\n",
    "# tuples have for less methods\n",
    "tuple1 = ('a', 'b', 'c')\n",
    "tuple2 = (1, 2, 3)\n",
    "\n",
    "\n",
    "tuple3 = tuple1 + tuple2\n",
    "print('concatenatation:', tuple3)\n",
    "\n",
    "# repeat a list\n",
    "tuple_n = tuple1 * 3\n",
    "print('repeatation:', tuple_n)\n",
    "\n",
    "# check element in a list\n",
    "print(\"'a' in tuple1:\", 'a' in tuple1)\n",
    "print(\"'a' not in tuple2:\", 'a' not in tuple2)\n",
    "\n",
    "# check length of a list (how many elements are in a list)\n",
    "tuple_of_tuple = ((1,2,3), (4,5), 6)\n",
    "print('length of tuple_n:', len(tuple_n))\n",
    "print('length of tuple_of_tuple:', len(tuple_of_tuple))\n",
    "\n",
    "# to locate an element in the tuple\n",
    "print('the location of \"b\" in tuple_n is:', tuple_n.index('b'))"
   ]
  },
  {
   "cell_type": "code",
   "execution_count": null,
   "metadata": {},
   "outputs": [],
   "source": [
    "# compare list and tuple\n",
    "from sys import getsizeof\n",
    "list_n = list(tuple_n)\n",
    "print('sizes of list and tuple are', getsizeof(list_n), getsizeof(tuple_n))"
   ]
  },
  {
   "cell_type": "code",
   "execution_count": null,
   "metadata": {},
   "outputs": [],
   "source": [
    "%timeit list1 = [1] * 10; list2 = [2] * 3; list3 = list1 + list2\n",
    "%timeit tuple1 = (1,) * 10; tuple2 = (2,) * 3; tuple3 = tuple1 + tuple2"
   ]
  },
  {
   "cell_type": "code",
   "execution_count": null,
   "metadata": {},
   "outputs": [],
   "source": [
    "# Accessing the elements inside lists or tuples\n",
    "list1 = [1, 2, 3, 4, 5]\n",
    "# 0-based indexing\n",
    "print('The first and second elements are', list1[0], list1[1])\n",
    "# negative indexing\n",
    "print('The last and second last elements are', list1[-1], list1[-2])\n",
    "# Range indexing\n",
    "print('The second to fourth elements are', list1[1:4])\n",
    "print('The second to the last elements are', list1[1:])\n",
    "print('The second to second last elements are', list1[1:-1])\n",
    "print('The first to second last elements are', list1[:-1])\n",
    "# select every second element\n",
    "print('The every second elements are', list1[::2])\n"
   ]
  },
  {
   "cell_type": "markdown",
   "metadata": {},
   "source": [
    "### Set"
   ]
  },
  {
   "cell_type": "code",
   "execution_count": null,
   "metadata": {},
   "outputs": [],
   "source": [
    "# A set is a collection which is unordered and unindexed\n",
    "set1 = {1, 2, 3}\n",
    "set2 = {'a', 'b', 'c', 'c'} # it will remove duplicate items during construction\n",
    "print(set2)\n",
    "\n",
    "# to join two sets\n",
    "set3 = set1.union(set2)\n",
    "print('after join:', set3)\n",
    "\n",
    "# add one item\n",
    "set1.add(4)\n",
    "print('after adding an item:', set1)\n",
    "\n",
    "# add more items\n",
    "set2.update(('d', 'e', 'f'))\n",
    "print('after adding several items:', set2)\n",
    "\n",
    "# remove an item\n",
    "set2.remove(('b'))\n",
    "print('after removing item b:', set2)\n",
    "\n",
    "# other functions len() and in also work for sets"
   ]
  },
  {
   "cell_type": "markdown",
   "metadata": {},
   "source": [
    "### Dictionary"
   ]
  },
  {
   "cell_type": "code",
   "execution_count": null,
   "metadata": {},
   "outputs": [],
   "source": [
    "# dictionary is unordered but indexed and mutable\n",
    "dict1 = {\"brand\": \"Ford\", \"model\": \"Mustang\", \"year\": 1964}\n",
    "dict2 = dict(brand=\"Chevy\", model=\"Camaro\", year=1999)\n",
    "dict3 = {0:1, 1:2, 2:3}\n",
    "print(dict1)\n",
    "print(dict2)\n",
    "print(dict3)\n",
    "\n",
    "# Accessing an element\n",
    "print(dict1['brand'])\n",
    "print(dict2.get('model'))\n",
    "print(dict3[0])\n",
    "\n",
    "# keys and values\n",
    "print(dict1.keys())\n",
    "print(dict1.values())\n",
    "\n",
    "# when using 'in', it is checking the keys\n",
    "print(\"'brand' in dict1:\", 'brand' in dict1)\n",
    "print(\"'Ford' in dict1:\", 'Ford' in dict1)\n",
    "# unless\n",
    "print(\"'Ford' in dict1's values:\", 'Ford' in dict1.values())\n",
    "\n",
    "# change value\n",
    "dict1['brand'] = 'VW'\n",
    "print('after an item is changed:', dict1)\n",
    "\n",
    "# add an item\n",
    "dict1['color'] = 'Black'\n",
    "print('after an item is added:', dict1)\n",
    "\n",
    "# remove an item by its key\n",
    "brand = dict1.pop('brand')\n",
    "print('pop:', brand)\n",
    "print('after pop:', dict1)"
   ]
  },
  {
   "cell_type": "markdown",
   "metadata": {},
   "source": [
    "### Mutable and immutable"
   ]
  },
  {
   "cell_type": "code",
   "execution_count": null,
   "metadata": {},
   "outputs": [],
   "source": [
    "# mutable object\n",
    "print(list3)\n",
    "\n",
    "list3[1] = 'mutable'\n",
    "\n",
    "print(list3)\n"
   ]
  },
  {
   "cell_type": "code",
   "execution_count": null,
   "metadata": {},
   "outputs": [],
   "source": [
    "# immutable\n",
    "tuple3 = tuple(list3)\n",
    "print(tuple3)\n",
    "\n",
    "tuple3[1] = 'immutable' #this won't work."
   ]
  },
  {
   "cell_type": "code",
   "execution_count": null,
   "metadata": {},
   "outputs": [],
   "source": [
    "# the variable actually is an address pointing to the object\n",
    "list4 = list3\n",
    "print('list3:', list3)\n",
    "print('list4:', list4)\n",
    "\n",
    "list4[1] = 'list4_changed'\n",
    "print('list3 after change:', list3)\n",
    "print('list4 after change:', list4)\n",
    "\n",
    "list4 = [1, 2, 3] # a new object\n",
    "print('list3 after change2:', list3)\n",
    "print('list4 after change2:', list4)"
   ]
  },
  {
   "cell_type": "code",
   "execution_count": null,
   "metadata": {},
   "outputs": [],
   "source": [
    "# use copy() to make a copy of the list\n",
    "list4 = list3.copy()\n",
    "print('list3:', list3)\n",
    "print('list4:', list4)\n",
    "\n",
    "list4[1] = 'list4_changed'\n",
    "print('list3 after change:', list3)\n",
    "print('list4 after change:', list4)"
   ]
  },
  {
   "cell_type": "code",
   "execution_count": null,
   "metadata": {},
   "outputs": [],
   "source": [
    "# function parameter passed by value for an immutable object \n",
    "def updateList(list1):\n",
    "    list1 += tuple([10])\n",
    "    \n",
    "n = (5, 6)\n",
    "updateList(n)\n",
    "print(n)"
   ]
  },
  {
   "cell_type": "code",
   "execution_count": null,
   "metadata": {},
   "outputs": [],
   "source": [
    "# function parameter passed by reference for a mutable object\n",
    "def updateList(list1):\n",
    "    list1 += [10]\n",
    "    \n",
    "n = [5, 6]\n",
    "updateList(n)\n",
    "print(n)"
   ]
  },
  {
   "cell_type": "code",
   "execution_count": null,
   "metadata": {},
   "outputs": [],
   "source": [
    "# but this is a bad habit\n",
    "def updateList(list1):\n",
    "    result = list1 + [10]\n",
    "    return result\n",
    "    \n",
    "n = [5, 6]\n",
    "n = updateList(n)\n",
    "print(n)"
   ]
  },
  {
   "cell_type": "markdown",
   "metadata": {},
   "source": [
    "# String is special"
   ]
  },
  {
   "cell_type": "code",
   "execution_count": null,
   "metadata": {},
   "outputs": [],
   "source": [
    "# multiline string\n",
    "multiline_str = '''\n",
    "we are UNL\n",
    "students.\n",
    "'''\n",
    "print(multiline_str)\n",
    "\n",
    "multiline_str = '''\n",
    " we are UNL\n",
    "students.\n",
    "'''\n",
    "print(multiline_str)"
   ]
  },
  {
   "cell_type": "code",
   "execution_count": null,
   "metadata": {},
   "outputs": [],
   "source": [
    "# To split a long string\n",
    "multiline_str = 'we are UNL ' \\\n",
    "'students.'\n",
    "print(multiline_str)\n",
    "\n",
    "multiline_str = 'we are UNL ' + 'students.'\n",
    "print(multiline_str)"
   ]
  },
  {
   "cell_type": "code",
   "execution_count": null,
   "metadata": {},
   "outputs": [],
   "source": [
    "# strings are arrays\n",
    "str1 = \"Hello, World!\"\n",
    "print(str1[1])\n",
    "print(str1[-6:])"
   ]
  },
  {
   "cell_type": "code",
   "execution_count": null,
   "metadata": {},
   "outputs": [],
   "source": [
    "# some useful string\n",
    "print(str1.lower())\n",
    "print(str1.upper())\n",
    "\n",
    "# replace\n",
    "print(str1.replace(\"H\", \"J\"))\n",
    "\n",
    "# split strings\n",
    "print(str1.split())\n",
    "print(str1.split(','))\n",
    "\n",
    "# remove leading or trailing spaces\n",
    "str2 = ' s1 s2 s3\\n'\n",
    "print(str2)\n",
    "print(str2.strip()) # removes any whitespace (including new line symbol) from the beginning or the end\n",
    "print(str2.rstrip()) # removes any whitespace (including new line symbol) at the end\n",
    "print(str2)\n",
    "\n",
    "# check substring\n",
    "print('hello' in str1.lower())"
   ]
  },
  {
   "cell_type": "code",
   "execution_count": null,
   "metadata": {},
   "outputs": [],
   "source": [
    "# string operator\n",
    "# concatenate\n",
    "str2 = ' bye bye'\n",
    "print(str1 + str2)\n",
    "\n",
    "# repeat\n",
    "print(str2 * 3)\n",
    "\n",
    "\n",
    "#print(str2 * 3.) # this wont work\n",
    "\n",
    "# Joins the elements of an iterable to the end of the string\n",
    "print(','.join(list(str1)))"
   ]
  },
  {
   "cell_type": "code",
   "execution_count": 1,
   "metadata": {},
   "outputs": [
    {
     "data": {
      "text/plain": [
       "[<matplotlib.lines.Line2D at 0x25742ac6588>]"
      ]
     },
     "execution_count": 1,
     "metadata": {},
     "output_type": "execute_result"
    },
    {
     "data": {
      "image/png": "[encoded data removed]",
      "text/plain": [
       "<Figure size 432x288 with 1 Axes>"
      ]
     },
     "metadata": {
      "needs_background": "light"
     },
     "output_type": "display_data"
    }
   ],
   "source": [
    "import matplotlib.pyplot as plt\n",
    "\n",
    "plt.plot([1,2,3], [5,6,5])"
   ]
  }
 ],
 "metadata": {
  "kernelspec": {
   "display_name": "Python 3",
   "language": "python",
   "name": "python3"
  },
  "language_info": {
   "codemirror_mode": {
    "name": "ipython",
    "version": 3
   },
   "file_extension": ".py",
   "mimetype": "text/x-python",
   "name": "python",
   "nbconvert_exporter": "python",
   "pygments_lexer": "ipython3",
   "version": "3.7.1"
  }
 },
 "nbformat": 4,
 "nbformat_minor": 4
}
